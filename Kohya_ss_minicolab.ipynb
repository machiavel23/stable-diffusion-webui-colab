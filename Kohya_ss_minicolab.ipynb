{
  "nbformat": 4,
  "nbformat_minor": 0,
  "metadata": {
    "colab": {
      "private_outputs": true,
      "provenance": [],
      "authorship_tag": "ABX9TyMpN1R6UtN6ju+JaS6EH/h3",
      "include_colab_link": true
    },
    "kernelspec": {
      "name": "python3",
      "display_name": "Python 3"
    },
    "language_info": {
      "name": "python"
    }
  },
  "cells": [
    {
      "cell_type": "markdown",
      "metadata": {
        "id": "view-in-github",
        "colab_type": "text"
      },
      "source": [
        "<a href=\"https://colab.research.google.com/github/machiavel23/stable-diffusion-webui-colab/blob/main/Kohya_ss_minicolab.ipynb\" target=\"_parent\"><img src=\"https://colab.research.google.com/assets/colab-badge.svg\" alt=\"Open In Colab\"/></a>"
      ]
    },
    {
      "cell_type": "code",
      "execution_count": null,
      "metadata": {
        "id": "Sr4ob9S0QylL"
      },
      "outputs": [],
      "source": [
        "from IPython.utils import capture\n",
        "\n",
        "print(\"Downloading Kohya_ss\")\n",
        "with capture.capture_output() as cap:\n",
        "    %cd /content/\n",
        "    !git clone https://github.com/bmaltais/kohya_ss kohya_ss\n",
        "    %cd /content/kohya_ss\n",
        "\n",
        "print(\"Installing requirements... (Takes a few minutes.)\")\n",
        "with capture.capture_output() as cap:\n",
        "    !pip install -r requirements.txt\n",
        "\n",
        "print(\"Launching Kohya_ss\")\n",
        "!python kohya_gui.py --share"
      ]
    }
  ]
}